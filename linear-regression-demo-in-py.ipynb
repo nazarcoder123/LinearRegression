{
 "cells": [
  {
   "cell_type": "code",
   "execution_count": 1,
   "id": "dd7946c7",
   "metadata": {
    "execution": {
     "iopub.execute_input": "2022-12-12T18:23:37.022774Z",
     "iopub.status.busy": "2022-12-12T18:23:37.022187Z",
     "iopub.status.idle": "2022-12-12T18:23:37.032458Z",
     "shell.execute_reply": "2022-12-12T18:23:37.031735Z"
    },
    "papermill": {
     "duration": 0.024178,
     "end_time": "2022-12-12T18:23:37.034616",
     "exception": false,
     "start_time": "2022-12-12T18:23:37.010438",
     "status": "completed"
    },
    "tags": []
   },
   "outputs": [],
   "source": [
    "import pandas as pd"
   ]
  },
  {
   "cell_type": "code",
   "execution_count": 2,
   "id": "29c25cf2",
   "metadata": {
    "execution": {
     "iopub.execute_input": "2022-12-12T18:23:37.053421Z",
     "iopub.status.busy": "2022-12-12T18:23:37.052624Z",
     "iopub.status.idle": "2022-12-12T18:23:37.071448Z",
     "shell.execute_reply": "2022-12-12T18:23:37.070359Z"
    },
    "papermill": {
     "duration": 0.030961,
     "end_time": "2022-12-12T18:23:37.074157",
     "exception": false,
     "start_time": "2022-12-12T18:23:37.043196",
     "status": "completed"
    },
    "tags": []
   },
   "outputs": [],
   "source": [
    "iris=pd.read_csv(\"/kaggle/input/iris-flower-dataset/IRIS.csv\")"
   ]
  },
  {
   "cell_type": "code",
   "execution_count": 3,
   "id": "3da7dedc",
   "metadata": {
    "execution": {
     "iopub.execute_input": "2022-12-12T18:23:37.093278Z",
     "iopub.status.busy": "2022-12-12T18:23:37.092805Z",
     "iopub.status.idle": "2022-12-12T18:23:37.121893Z",
     "shell.execute_reply": "2022-12-12T18:23:37.120766Z"
    },
    "papermill": {
     "duration": 0.041671,
     "end_time": "2022-12-12T18:23:37.124648",
     "exception": false,
     "start_time": "2022-12-12T18:23:37.082977",
     "status": "completed"
    },
    "tags": []
   },
   "outputs": [
    {
     "data": {
      "text/html": [
       "<div>\n",
       "<style scoped>\n",
       "    .dataframe tbody tr th:only-of-type {\n",
       "        vertical-align: middle;\n",
       "    }\n",
       "\n",
       "    .dataframe tbody tr th {\n",
       "        vertical-align: top;\n",
       "    }\n",
       "\n",
       "    .dataframe thead th {\n",
       "        text-align: right;\n",
       "    }\n",
       "</style>\n",
       "<table border=\"1\" class=\"dataframe\">\n",
       "  <thead>\n",
       "    <tr style=\"text-align: right;\">\n",
       "      <th></th>\n",
       "      <th>sepal_length</th>\n",
       "      <th>sepal_width</th>\n",
       "      <th>petal_length</th>\n",
       "      <th>petal_width</th>\n",
       "      <th>species</th>\n",
       "    </tr>\n",
       "  </thead>\n",
       "  <tbody>\n",
       "    <tr>\n",
       "      <th>0</th>\n",
       "      <td>5.1</td>\n",
       "      <td>3.5</td>\n",
       "      <td>1.4</td>\n",
       "      <td>0.2</td>\n",
       "      <td>Iris-setosa</td>\n",
       "    </tr>\n",
       "    <tr>\n",
       "      <th>1</th>\n",
       "      <td>4.9</td>\n",
       "      <td>3.0</td>\n",
       "      <td>1.4</td>\n",
       "      <td>0.2</td>\n",
       "      <td>Iris-setosa</td>\n",
       "    </tr>\n",
       "    <tr>\n",
       "      <th>2</th>\n",
       "      <td>4.7</td>\n",
       "      <td>3.2</td>\n",
       "      <td>1.3</td>\n",
       "      <td>0.2</td>\n",
       "      <td>Iris-setosa</td>\n",
       "    </tr>\n",
       "    <tr>\n",
       "      <th>3</th>\n",
       "      <td>4.6</td>\n",
       "      <td>3.1</td>\n",
       "      <td>1.5</td>\n",
       "      <td>0.2</td>\n",
       "      <td>Iris-setosa</td>\n",
       "    </tr>\n",
       "    <tr>\n",
       "      <th>4</th>\n",
       "      <td>5.0</td>\n",
       "      <td>3.6</td>\n",
       "      <td>1.4</td>\n",
       "      <td>0.2</td>\n",
       "      <td>Iris-setosa</td>\n",
       "    </tr>\n",
       "  </tbody>\n",
       "</table>\n",
       "</div>"
      ],
      "text/plain": [
       "   sepal_length  sepal_width  petal_length  petal_width      species\n",
       "0           5.1          3.5           1.4          0.2  Iris-setosa\n",
       "1           4.9          3.0           1.4          0.2  Iris-setosa\n",
       "2           4.7          3.2           1.3          0.2  Iris-setosa\n",
       "3           4.6          3.1           1.5          0.2  Iris-setosa\n",
       "4           5.0          3.6           1.4          0.2  Iris-setosa"
      ]
     },
     "execution_count": 3,
     "metadata": {},
     "output_type": "execute_result"
    }
   ],
   "source": [
    "iris.head()"
   ]
  },
  {
   "cell_type": "code",
   "execution_count": 4,
   "id": "27df182c",
   "metadata": {
    "execution": {
     "iopub.execute_input": "2022-12-12T18:23:37.143991Z",
     "iopub.status.busy": "2022-12-12T18:23:37.143622Z",
     "iopub.status.idle": "2022-12-12T18:23:37.155256Z",
     "shell.execute_reply": "2022-12-12T18:23:37.154341Z"
    },
    "papermill": {
     "duration": 0.024263,
     "end_time": "2022-12-12T18:23:37.157666",
     "exception": false,
     "start_time": "2022-12-12T18:23:37.133403",
     "status": "completed"
    },
    "tags": []
   },
   "outputs": [
    {
     "data": {
      "text/plain": [
       "0      False\n",
       "1      False\n",
       "2      False\n",
       "3      False\n",
       "4      False\n",
       "       ...  \n",
       "145    False\n",
       "146    False\n",
       "147    False\n",
       "148    False\n",
       "149    False\n",
       "Name: sepal_width, Length: 150, dtype: bool"
      ]
     },
     "execution_count": 4,
     "metadata": {},
     "output_type": "execute_result"
    }
   ],
   "source": [
    "iris['sepal_width']>4"
   ]
  },
  {
   "cell_type": "code",
   "execution_count": 5,
   "id": "6d8d4b8e",
   "metadata": {
    "execution": {
     "iopub.execute_input": "2022-12-12T18:23:37.179046Z",
     "iopub.status.busy": "2022-12-12T18:23:37.178369Z",
     "iopub.status.idle": "2022-12-12T18:23:37.193430Z",
     "shell.execute_reply": "2022-12-12T18:23:37.192707Z"
    },
    "papermill": {
     "duration": 0.026938,
     "end_time": "2022-12-12T18:23:37.195410",
     "exception": false,
     "start_time": "2022-12-12T18:23:37.168472",
     "status": "completed"
    },
    "tags": []
   },
   "outputs": [
    {
     "data": {
      "text/html": [
       "<div>\n",
       "<style scoped>\n",
       "    .dataframe tbody tr th:only-of-type {\n",
       "        vertical-align: middle;\n",
       "    }\n",
       "\n",
       "    .dataframe tbody tr th {\n",
       "        vertical-align: top;\n",
       "    }\n",
       "\n",
       "    .dataframe thead th {\n",
       "        text-align: right;\n",
       "    }\n",
       "</style>\n",
       "<table border=\"1\" class=\"dataframe\">\n",
       "  <thead>\n",
       "    <tr style=\"text-align: right;\">\n",
       "      <th></th>\n",
       "      <th>sepal_length</th>\n",
       "      <th>sepal_width</th>\n",
       "      <th>petal_length</th>\n",
       "      <th>petal_width</th>\n",
       "      <th>species</th>\n",
       "    </tr>\n",
       "  </thead>\n",
       "  <tbody>\n",
       "    <tr>\n",
       "      <th>15</th>\n",
       "      <td>5.7</td>\n",
       "      <td>4.4</td>\n",
       "      <td>1.5</td>\n",
       "      <td>0.4</td>\n",
       "      <td>Iris-setosa</td>\n",
       "    </tr>\n",
       "    <tr>\n",
       "      <th>32</th>\n",
       "      <td>5.2</td>\n",
       "      <td>4.1</td>\n",
       "      <td>1.5</td>\n",
       "      <td>0.1</td>\n",
       "      <td>Iris-setosa</td>\n",
       "    </tr>\n",
       "    <tr>\n",
       "      <th>33</th>\n",
       "      <td>5.5</td>\n",
       "      <td>4.2</td>\n",
       "      <td>1.4</td>\n",
       "      <td>0.2</td>\n",
       "      <td>Iris-setosa</td>\n",
       "    </tr>\n",
       "  </tbody>\n",
       "</table>\n",
       "</div>"
      ],
      "text/plain": [
       "    sepal_length  sepal_width  petal_length  petal_width      species\n",
       "15           5.7          4.4           1.5          0.4  Iris-setosa\n",
       "32           5.2          4.1           1.5          0.1  Iris-setosa\n",
       "33           5.5          4.2           1.4          0.2  Iris-setosa"
      ]
     },
     "execution_count": 5,
     "metadata": {},
     "output_type": "execute_result"
    }
   ],
   "source": [
    "iris[iris['sepal_width']>4]"
   ]
  },
  {
   "cell_type": "code",
   "execution_count": 6,
   "id": "72684aea",
   "metadata": {
    "execution": {
     "iopub.execute_input": "2022-12-12T18:23:37.215174Z",
     "iopub.status.busy": "2022-12-12T18:23:37.214513Z",
     "iopub.status.idle": "2022-12-12T18:23:37.221849Z",
     "shell.execute_reply": "2022-12-12T18:23:37.221096Z"
    },
    "papermill": {
     "duration": 0.019815,
     "end_time": "2022-12-12T18:23:37.224073",
     "exception": false,
     "start_time": "2022-12-12T18:23:37.204258",
     "status": "completed"
    },
    "tags": []
   },
   "outputs": [
    {
     "data": {
      "text/plain": [
       "0      False\n",
       "1      False\n",
       "2      False\n",
       "3      False\n",
       "4      False\n",
       "       ...  \n",
       "145     True\n",
       "146     True\n",
       "147     True\n",
       "148     True\n",
       "149     True\n",
       "Name: petal_width, Length: 150, dtype: bool"
      ]
     },
     "execution_count": 6,
     "metadata": {},
     "output_type": "execute_result"
    }
   ],
   "source": [
    "iris['petal_width']>1"
   ]
  },
  {
   "cell_type": "code",
   "execution_count": 7,
   "id": "7fdafb57",
   "metadata": {
    "execution": {
     "iopub.execute_input": "2022-12-12T18:23:37.244034Z",
     "iopub.status.busy": "2022-12-12T18:23:37.243646Z",
     "iopub.status.idle": "2022-12-12T18:23:37.263680Z",
     "shell.execute_reply": "2022-12-12T18:23:37.262549Z"
    },
    "papermill": {
     "duration": 0.032828,
     "end_time": "2022-12-12T18:23:37.266049",
     "exception": false,
     "start_time": "2022-12-12T18:23:37.233221",
     "status": "completed"
    },
    "tags": []
   },
   "outputs": [
    {
     "data": {
      "text/html": [
       "<div>\n",
       "<style scoped>\n",
       "    .dataframe tbody tr th:only-of-type {\n",
       "        vertical-align: middle;\n",
       "    }\n",
       "\n",
       "    .dataframe tbody tr th {\n",
       "        vertical-align: top;\n",
       "    }\n",
       "\n",
       "    .dataframe thead th {\n",
       "        text-align: right;\n",
       "    }\n",
       "</style>\n",
       "<table border=\"1\" class=\"dataframe\">\n",
       "  <thead>\n",
       "    <tr style=\"text-align: right;\">\n",
       "      <th></th>\n",
       "      <th>sepal_length</th>\n",
       "      <th>sepal_width</th>\n",
       "      <th>petal_length</th>\n",
       "      <th>petal_width</th>\n",
       "      <th>species</th>\n",
       "    </tr>\n",
       "  </thead>\n",
       "  <tbody>\n",
       "    <tr>\n",
       "      <th>50</th>\n",
       "      <td>7.0</td>\n",
       "      <td>3.2</td>\n",
       "      <td>4.7</td>\n",
       "      <td>1.4</td>\n",
       "      <td>Iris-versicolor</td>\n",
       "    </tr>\n",
       "    <tr>\n",
       "      <th>51</th>\n",
       "      <td>6.4</td>\n",
       "      <td>3.2</td>\n",
       "      <td>4.5</td>\n",
       "      <td>1.5</td>\n",
       "      <td>Iris-versicolor</td>\n",
       "    </tr>\n",
       "    <tr>\n",
       "      <th>52</th>\n",
       "      <td>6.9</td>\n",
       "      <td>3.1</td>\n",
       "      <td>4.9</td>\n",
       "      <td>1.5</td>\n",
       "      <td>Iris-versicolor</td>\n",
       "    </tr>\n",
       "    <tr>\n",
       "      <th>53</th>\n",
       "      <td>5.5</td>\n",
       "      <td>2.3</td>\n",
       "      <td>4.0</td>\n",
       "      <td>1.3</td>\n",
       "      <td>Iris-versicolor</td>\n",
       "    </tr>\n",
       "    <tr>\n",
       "      <th>54</th>\n",
       "      <td>6.5</td>\n",
       "      <td>2.8</td>\n",
       "      <td>4.6</td>\n",
       "      <td>1.5</td>\n",
       "      <td>Iris-versicolor</td>\n",
       "    </tr>\n",
       "    <tr>\n",
       "      <th>...</th>\n",
       "      <td>...</td>\n",
       "      <td>...</td>\n",
       "      <td>...</td>\n",
       "      <td>...</td>\n",
       "      <td>...</td>\n",
       "    </tr>\n",
       "    <tr>\n",
       "      <th>145</th>\n",
       "      <td>6.7</td>\n",
       "      <td>3.0</td>\n",
       "      <td>5.2</td>\n",
       "      <td>2.3</td>\n",
       "      <td>Iris-virginica</td>\n",
       "    </tr>\n",
       "    <tr>\n",
       "      <th>146</th>\n",
       "      <td>6.3</td>\n",
       "      <td>2.5</td>\n",
       "      <td>5.0</td>\n",
       "      <td>1.9</td>\n",
       "      <td>Iris-virginica</td>\n",
       "    </tr>\n",
       "    <tr>\n",
       "      <th>147</th>\n",
       "      <td>6.5</td>\n",
       "      <td>3.0</td>\n",
       "      <td>5.2</td>\n",
       "      <td>2.0</td>\n",
       "      <td>Iris-virginica</td>\n",
       "    </tr>\n",
       "    <tr>\n",
       "      <th>148</th>\n",
       "      <td>6.2</td>\n",
       "      <td>3.4</td>\n",
       "      <td>5.4</td>\n",
       "      <td>2.3</td>\n",
       "      <td>Iris-virginica</td>\n",
       "    </tr>\n",
       "    <tr>\n",
       "      <th>149</th>\n",
       "      <td>5.9</td>\n",
       "      <td>3.0</td>\n",
       "      <td>5.1</td>\n",
       "      <td>1.8</td>\n",
       "      <td>Iris-virginica</td>\n",
       "    </tr>\n",
       "  </tbody>\n",
       "</table>\n",
       "<p>93 rows × 5 columns</p>\n",
       "</div>"
      ],
      "text/plain": [
       "     sepal_length  sepal_width  petal_length  petal_width          species\n",
       "50            7.0          3.2           4.7          1.4  Iris-versicolor\n",
       "51            6.4          3.2           4.5          1.5  Iris-versicolor\n",
       "52            6.9          3.1           4.9          1.5  Iris-versicolor\n",
       "53            5.5          2.3           4.0          1.3  Iris-versicolor\n",
       "54            6.5          2.8           4.6          1.5  Iris-versicolor\n",
       "..            ...          ...           ...          ...              ...\n",
       "145           6.7          3.0           5.2          2.3   Iris-virginica\n",
       "146           6.3          2.5           5.0          1.9   Iris-virginica\n",
       "147           6.5          3.0           5.2          2.0   Iris-virginica\n",
       "148           6.2          3.4           5.4          2.3   Iris-virginica\n",
       "149           5.9          3.0           5.1          1.8   Iris-virginica\n",
       "\n",
       "[93 rows x 5 columns]"
      ]
     },
     "execution_count": 7,
     "metadata": {},
     "output_type": "execute_result"
    }
   ],
   "source": [
    "iris[iris['petal_width']>1]"
   ]
  },
  {
   "cell_type": "code",
   "execution_count": 8,
   "id": "89862dc3",
   "metadata": {
    "execution": {
     "iopub.execute_input": "2022-12-12T18:23:37.286905Z",
     "iopub.status.busy": "2022-12-12T18:23:37.286488Z",
     "iopub.status.idle": "2022-12-12T18:23:37.307099Z",
     "shell.execute_reply": "2022-12-12T18:23:37.305998Z"
    },
    "papermill": {
     "duration": 0.033607,
     "end_time": "2022-12-12T18:23:37.309297",
     "exception": false,
     "start_time": "2022-12-12T18:23:37.275690",
     "status": "completed"
    },
    "tags": []
   },
   "outputs": [
    {
     "data": {
      "text/html": [
       "<div>\n",
       "<style scoped>\n",
       "    .dataframe tbody tr th:only-of-type {\n",
       "        vertical-align: middle;\n",
       "    }\n",
       "\n",
       "    .dataframe tbody tr th {\n",
       "        vertical-align: top;\n",
       "    }\n",
       "\n",
       "    .dataframe thead th {\n",
       "        text-align: right;\n",
       "    }\n",
       "</style>\n",
       "<table border=\"1\" class=\"dataframe\">\n",
       "  <thead>\n",
       "    <tr style=\"text-align: right;\">\n",
       "      <th></th>\n",
       "      <th>sepal_length</th>\n",
       "      <th>sepal_width</th>\n",
       "      <th>petal_length</th>\n",
       "      <th>petal_width</th>\n",
       "      <th>species</th>\n",
       "    </tr>\n",
       "  </thead>\n",
       "  <tbody>\n",
       "    <tr>\n",
       "      <th>100</th>\n",
       "      <td>6.3</td>\n",
       "      <td>3.3</td>\n",
       "      <td>6.0</td>\n",
       "      <td>2.5</td>\n",
       "      <td>Iris-virginica</td>\n",
       "    </tr>\n",
       "    <tr>\n",
       "      <th>102</th>\n",
       "      <td>7.1</td>\n",
       "      <td>3.0</td>\n",
       "      <td>5.9</td>\n",
       "      <td>2.1</td>\n",
       "      <td>Iris-virginica</td>\n",
       "    </tr>\n",
       "    <tr>\n",
       "      <th>104</th>\n",
       "      <td>6.5</td>\n",
       "      <td>3.0</td>\n",
       "      <td>5.8</td>\n",
       "      <td>2.2</td>\n",
       "      <td>Iris-virginica</td>\n",
       "    </tr>\n",
       "    <tr>\n",
       "      <th>105</th>\n",
       "      <td>7.6</td>\n",
       "      <td>3.0</td>\n",
       "      <td>6.6</td>\n",
       "      <td>2.1</td>\n",
       "      <td>Iris-virginica</td>\n",
       "    </tr>\n",
       "    <tr>\n",
       "      <th>109</th>\n",
       "      <td>7.2</td>\n",
       "      <td>3.6</td>\n",
       "      <td>6.1</td>\n",
       "      <td>2.5</td>\n",
       "      <td>Iris-virginica</td>\n",
       "    </tr>\n",
       "    <tr>\n",
       "      <th>112</th>\n",
       "      <td>6.8</td>\n",
       "      <td>3.0</td>\n",
       "      <td>5.5</td>\n",
       "      <td>2.1</td>\n",
       "      <td>Iris-virginica</td>\n",
       "    </tr>\n",
       "    <tr>\n",
       "      <th>114</th>\n",
       "      <td>5.8</td>\n",
       "      <td>2.8</td>\n",
       "      <td>5.1</td>\n",
       "      <td>2.4</td>\n",
       "      <td>Iris-virginica</td>\n",
       "    </tr>\n",
       "    <tr>\n",
       "      <th>115</th>\n",
       "      <td>6.4</td>\n",
       "      <td>3.2</td>\n",
       "      <td>5.3</td>\n",
       "      <td>2.3</td>\n",
       "      <td>Iris-virginica</td>\n",
       "    </tr>\n",
       "    <tr>\n",
       "      <th>117</th>\n",
       "      <td>7.7</td>\n",
       "      <td>3.8</td>\n",
       "      <td>6.7</td>\n",
       "      <td>2.2</td>\n",
       "      <td>Iris-virginica</td>\n",
       "    </tr>\n",
       "    <tr>\n",
       "      <th>118</th>\n",
       "      <td>7.7</td>\n",
       "      <td>2.6</td>\n",
       "      <td>6.9</td>\n",
       "      <td>2.3</td>\n",
       "      <td>Iris-virginica</td>\n",
       "    </tr>\n",
       "    <tr>\n",
       "      <th>120</th>\n",
       "      <td>6.9</td>\n",
       "      <td>3.2</td>\n",
       "      <td>5.7</td>\n",
       "      <td>2.3</td>\n",
       "      <td>Iris-virginica</td>\n",
       "    </tr>\n",
       "    <tr>\n",
       "      <th>124</th>\n",
       "      <td>6.7</td>\n",
       "      <td>3.3</td>\n",
       "      <td>5.7</td>\n",
       "      <td>2.1</td>\n",
       "      <td>Iris-virginica</td>\n",
       "    </tr>\n",
       "    <tr>\n",
       "      <th>128</th>\n",
       "      <td>6.4</td>\n",
       "      <td>2.8</td>\n",
       "      <td>5.6</td>\n",
       "      <td>2.1</td>\n",
       "      <td>Iris-virginica</td>\n",
       "    </tr>\n",
       "    <tr>\n",
       "      <th>132</th>\n",
       "      <td>6.4</td>\n",
       "      <td>2.8</td>\n",
       "      <td>5.6</td>\n",
       "      <td>2.2</td>\n",
       "      <td>Iris-virginica</td>\n",
       "    </tr>\n",
       "    <tr>\n",
       "      <th>135</th>\n",
       "      <td>7.7</td>\n",
       "      <td>3.0</td>\n",
       "      <td>6.1</td>\n",
       "      <td>2.3</td>\n",
       "      <td>Iris-virginica</td>\n",
       "    </tr>\n",
       "    <tr>\n",
       "      <th>136</th>\n",
       "      <td>6.3</td>\n",
       "      <td>3.4</td>\n",
       "      <td>5.6</td>\n",
       "      <td>2.4</td>\n",
       "      <td>Iris-virginica</td>\n",
       "    </tr>\n",
       "    <tr>\n",
       "      <th>139</th>\n",
       "      <td>6.9</td>\n",
       "      <td>3.1</td>\n",
       "      <td>5.4</td>\n",
       "      <td>2.1</td>\n",
       "      <td>Iris-virginica</td>\n",
       "    </tr>\n",
       "    <tr>\n",
       "      <th>140</th>\n",
       "      <td>6.7</td>\n",
       "      <td>3.1</td>\n",
       "      <td>5.6</td>\n",
       "      <td>2.4</td>\n",
       "      <td>Iris-virginica</td>\n",
       "    </tr>\n",
       "    <tr>\n",
       "      <th>141</th>\n",
       "      <td>6.9</td>\n",
       "      <td>3.1</td>\n",
       "      <td>5.1</td>\n",
       "      <td>2.3</td>\n",
       "      <td>Iris-virginica</td>\n",
       "    </tr>\n",
       "    <tr>\n",
       "      <th>143</th>\n",
       "      <td>6.8</td>\n",
       "      <td>3.2</td>\n",
       "      <td>5.9</td>\n",
       "      <td>2.3</td>\n",
       "      <td>Iris-virginica</td>\n",
       "    </tr>\n",
       "    <tr>\n",
       "      <th>144</th>\n",
       "      <td>6.7</td>\n",
       "      <td>3.3</td>\n",
       "      <td>5.7</td>\n",
       "      <td>2.5</td>\n",
       "      <td>Iris-virginica</td>\n",
       "    </tr>\n",
       "    <tr>\n",
       "      <th>145</th>\n",
       "      <td>6.7</td>\n",
       "      <td>3.0</td>\n",
       "      <td>5.2</td>\n",
       "      <td>2.3</td>\n",
       "      <td>Iris-virginica</td>\n",
       "    </tr>\n",
       "    <tr>\n",
       "      <th>148</th>\n",
       "      <td>6.2</td>\n",
       "      <td>3.4</td>\n",
       "      <td>5.4</td>\n",
       "      <td>2.3</td>\n",
       "      <td>Iris-virginica</td>\n",
       "    </tr>\n",
       "  </tbody>\n",
       "</table>\n",
       "</div>"
      ],
      "text/plain": [
       "     sepal_length  sepal_width  petal_length  petal_width         species\n",
       "100           6.3          3.3           6.0          2.5  Iris-virginica\n",
       "102           7.1          3.0           5.9          2.1  Iris-virginica\n",
       "104           6.5          3.0           5.8          2.2  Iris-virginica\n",
       "105           7.6          3.0           6.6          2.1  Iris-virginica\n",
       "109           7.2          3.6           6.1          2.5  Iris-virginica\n",
       "112           6.8          3.0           5.5          2.1  Iris-virginica\n",
       "114           5.8          2.8           5.1          2.4  Iris-virginica\n",
       "115           6.4          3.2           5.3          2.3  Iris-virginica\n",
       "117           7.7          3.8           6.7          2.2  Iris-virginica\n",
       "118           7.7          2.6           6.9          2.3  Iris-virginica\n",
       "120           6.9          3.2           5.7          2.3  Iris-virginica\n",
       "124           6.7          3.3           5.7          2.1  Iris-virginica\n",
       "128           6.4          2.8           5.6          2.1  Iris-virginica\n",
       "132           6.4          2.8           5.6          2.2  Iris-virginica\n",
       "135           7.7          3.0           6.1          2.3  Iris-virginica\n",
       "136           6.3          3.4           5.6          2.4  Iris-virginica\n",
       "139           6.9          3.1           5.4          2.1  Iris-virginica\n",
       "140           6.7          3.1           5.6          2.4  Iris-virginica\n",
       "141           6.9          3.1           5.1          2.3  Iris-virginica\n",
       "143           6.8          3.2           5.9          2.3  Iris-virginica\n",
       "144           6.7          3.3           5.7          2.5  Iris-virginica\n",
       "145           6.7          3.0           5.2          2.3  Iris-virginica\n",
       "148           6.2          3.4           5.4          2.3  Iris-virginica"
      ]
     },
     "execution_count": 8,
     "metadata": {},
     "output_type": "execute_result"
    }
   ],
   "source": [
    "iris[iris['petal_width']>2]"
   ]
  },
  {
   "cell_type": "code",
   "execution_count": 9,
   "id": "2f3db923",
   "metadata": {
    "execution": {
     "iopub.execute_input": "2022-12-12T18:23:37.331074Z",
     "iopub.status.busy": "2022-12-12T18:23:37.330249Z",
     "iopub.status.idle": "2022-12-12T18:23:38.251997Z",
     "shell.execute_reply": "2022-12-12T18:23:38.250799Z"
    },
    "papermill": {
     "duration": 0.935878,
     "end_time": "2022-12-12T18:23:38.254983",
     "exception": false,
     "start_time": "2022-12-12T18:23:37.319105",
     "status": "completed"
    },
    "tags": []
   },
   "outputs": [],
   "source": [
    "import seaborn as sns\n",
    "from matplotlib import pyplot as plt"
   ]
  },
  {
   "cell_type": "code",
   "execution_count": 10,
   "id": "3a153f52",
   "metadata": {
    "execution": {
     "iopub.execute_input": "2022-12-12T18:23:38.276200Z",
     "iopub.status.busy": "2022-12-12T18:23:38.275832Z",
     "iopub.status.idle": "2022-12-12T18:23:38.610715Z",
     "shell.execute_reply": "2022-12-12T18:23:38.609588Z"
    },
    "papermill": {
     "duration": 0.348257,
     "end_time": "2022-12-12T18:23:38.613040",
     "exception": false,
     "start_time": "2022-12-12T18:23:38.264783",
     "status": "completed"
    },
    "tags": []
   },
   "outputs": [
    {
     "data": {
      "image/png": "[encoded data removed]",
      "text/plain": [
       "<Figure size 432x288 with 1 Axes>"
      ]
     },
     "metadata": {
      "needs_background": "light"
     },
     "output_type": "display_data"
    }
   ],
   "source": [
    "sns.scatterplot(x='sepal_length',y='petal_length',data=iris,hue=\"species\")\n",
    "plt.show()"
   ]
  },
  {
   "cell_type": "code",
   "execution_count": 11,
   "id": "328b00cf",
   "metadata": {
    "execution": {
     "iopub.execute_input": "2022-12-12T18:23:38.635502Z",
     "iopub.status.busy": "2022-12-12T18:23:38.635077Z",
     "iopub.status.idle": "2022-12-12T18:23:38.648034Z",
     "shell.execute_reply": "2022-12-12T18:23:38.647205Z"
    },
    "papermill": {
     "duration": 0.026711,
     "end_time": "2022-12-12T18:23:38.650349",
     "exception": false,
     "start_time": "2022-12-12T18:23:38.623638",
     "status": "completed"
    },
    "tags": []
   },
   "outputs": [
    {
     "data": {
      "text/html": [
       "<div>\n",
       "<style scoped>\n",
       "    .dataframe tbody tr th:only-of-type {\n",
       "        vertical-align: middle;\n",
       "    }\n",
       "\n",
       "    .dataframe tbody tr th {\n",
       "        vertical-align: top;\n",
       "    }\n",
       "\n",
       "    .dataframe thead th {\n",
       "        text-align: right;\n",
       "    }\n",
       "</style>\n",
       "<table border=\"1\" class=\"dataframe\">\n",
       "  <thead>\n",
       "    <tr style=\"text-align: right;\">\n",
       "      <th></th>\n",
       "      <th>sepal_length</th>\n",
       "      <th>sepal_width</th>\n",
       "      <th>petal_length</th>\n",
       "      <th>petal_width</th>\n",
       "      <th>species</th>\n",
       "    </tr>\n",
       "  </thead>\n",
       "  <tbody>\n",
       "    <tr>\n",
       "      <th>0</th>\n",
       "      <td>5.1</td>\n",
       "      <td>3.5</td>\n",
       "      <td>1.4</td>\n",
       "      <td>0.2</td>\n",
       "      <td>Iris-setosa</td>\n",
       "    </tr>\n",
       "    <tr>\n",
       "      <th>1</th>\n",
       "      <td>4.9</td>\n",
       "      <td>3.0</td>\n",
       "      <td>1.4</td>\n",
       "      <td>0.2</td>\n",
       "      <td>Iris-setosa</td>\n",
       "    </tr>\n",
       "    <tr>\n",
       "      <th>2</th>\n",
       "      <td>4.7</td>\n",
       "      <td>3.2</td>\n",
       "      <td>1.3</td>\n",
       "      <td>0.2</td>\n",
       "      <td>Iris-setosa</td>\n",
       "    </tr>\n",
       "    <tr>\n",
       "      <th>3</th>\n",
       "      <td>4.6</td>\n",
       "      <td>3.1</td>\n",
       "      <td>1.5</td>\n",
       "      <td>0.2</td>\n",
       "      <td>Iris-setosa</td>\n",
       "    </tr>\n",
       "    <tr>\n",
       "      <th>4</th>\n",
       "      <td>5.0</td>\n",
       "      <td>3.6</td>\n",
       "      <td>1.4</td>\n",
       "      <td>0.2</td>\n",
       "      <td>Iris-setosa</td>\n",
       "    </tr>\n",
       "  </tbody>\n",
       "</table>\n",
       "</div>"
      ],
      "text/plain": [
       "   sepal_length  sepal_width  petal_length  petal_width      species\n",
       "0           5.1          3.5           1.4          0.2  Iris-setosa\n",
       "1           4.9          3.0           1.4          0.2  Iris-setosa\n",
       "2           4.7          3.2           1.3          0.2  Iris-setosa\n",
       "3           4.6          3.1           1.5          0.2  Iris-setosa\n",
       "4           5.0          3.6           1.4          0.2  Iris-setosa"
      ]
     },
     "execution_count": 11,
     "metadata": {},
     "output_type": "execute_result"
    }
   ],
   "source": [
    "iris.head()"
   ]
  },
  {
   "cell_type": "code",
   "execution_count": 12,
   "id": "98f2e248",
   "metadata": {
    "execution": {
     "iopub.execute_input": "2022-12-12T18:23:38.672702Z",
     "iopub.status.busy": "2022-12-12T18:23:38.672313Z",
     "iopub.status.idle": "2022-12-12T18:23:38.677740Z",
     "shell.execute_reply": "2022-12-12T18:23:38.676662Z"
    },
    "papermill": {
     "duration": 0.019365,
     "end_time": "2022-12-12T18:23:38.680092",
     "exception": false,
     "start_time": "2022-12-12T18:23:38.660727",
     "status": "completed"
    },
    "tags": []
   },
   "outputs": [],
   "source": [
    "y = iris[['sepal_length']]"
   ]
  },
  {
   "cell_type": "code",
   "execution_count": 13,
   "id": "0aa84e5d",
   "metadata": {
    "execution": {
     "iopub.execute_input": "2022-12-12T18:23:38.702622Z",
     "iopub.status.busy": "2022-12-12T18:23:38.702179Z",
     "iopub.status.idle": "2022-12-12T18:23:38.707796Z",
     "shell.execute_reply": "2022-12-12T18:23:38.706542Z"
    },
    "papermill": {
     "duration": 0.019548,
     "end_time": "2022-12-12T18:23:38.710042",
     "exception": false,
     "start_time": "2022-12-12T18:23:38.690494",
     "status": "completed"
    },
    "tags": []
   },
   "outputs": [],
   "source": [
    "x = iris[['sepal_width']]"
   ]
  },
  {
   "cell_type": "code",
   "execution_count": 14,
   "id": "bce78b04",
   "metadata": {
    "execution": {
     "iopub.execute_input": "2022-12-12T18:23:38.734242Z",
     "iopub.status.busy": "2022-12-12T18:23:38.733535Z",
     "iopub.status.idle": "2022-12-12T18:23:38.737491Z",
     "shell.execute_reply": "2022-12-12T18:23:38.736677Z"
    },
    "papermill": {
     "duration": 0.018297,
     "end_time": "2022-12-12T18:23:38.739528",
     "exception": false,
     "start_time": "2022-12-12T18:23:38.721231",
     "status": "completed"
    },
    "tags": []
   },
   "outputs": [],
   "source": [
    "# Now we need to divide this into training and testing data set's"
   ]
  },
  {
   "cell_type": "code",
   "execution_count": 15,
   "id": "c769de59",
   "metadata": {
    "execution": {
     "iopub.execute_input": "2022-12-12T18:23:38.763658Z",
     "iopub.status.busy": "2022-12-12T18:23:38.762866Z",
     "iopub.status.idle": "2022-12-12T18:23:38.918139Z",
     "shell.execute_reply": "2022-12-12T18:23:38.917013Z"
    },
    "papermill": {
     "duration": 0.170518,
     "end_time": "2022-12-12T18:23:38.920887",
     "exception": false,
     "start_time": "2022-12-12T18:23:38.750369",
     "status": "completed"
    },
    "tags": []
   },
   "outputs": [],
   "source": [
    "from sklearn.model_selection import train_test_split"
   ]
  },
  {
   "cell_type": "code",
   "execution_count": 16,
   "id": "9a3464bd",
   "metadata": {
    "execution": {
     "iopub.execute_input": "2022-12-12T18:23:38.943896Z",
     "iopub.status.busy": "2022-12-12T18:23:38.943470Z",
     "iopub.status.idle": "2022-12-12T18:23:38.949967Z",
     "shell.execute_reply": "2022-12-12T18:23:38.948692Z"
    },
    "papermill": {
     "duration": 0.020524,
     "end_time": "2022-12-12T18:23:38.952051",
     "exception": false,
     "start_time": "2022-12-12T18:23:38.931527",
     "status": "completed"
    },
    "tags": []
   },
   "outputs": [],
   "source": [
    "# In this we are assigning 30% of the data to training purposes\n",
    "x_train,x_test,y_train,y_test=train_test_split(x,y,test_size=0.3)"
   ]
  },
  {
   "cell_type": "code",
   "execution_count": 17,
   "id": "8b4d44c5",
   "metadata": {
    "execution": {
     "iopub.execute_input": "2022-12-12T18:23:38.975374Z",
     "iopub.status.busy": "2022-12-12T18:23:38.974127Z",
     "iopub.status.idle": "2022-12-12T18:23:38.983657Z",
     "shell.execute_reply": "2022-12-12T18:23:38.982855Z"
    },
    "papermill": {
     "duration": 0.022975,
     "end_time": "2022-12-12T18:23:38.985698",
     "exception": false,
     "start_time": "2022-12-12T18:23:38.962723",
     "status": "completed"
    },
    "tags": []
   },
   "outputs": [
    {
     "data": {
      "text/html": [
       "<div>\n",
       "<style scoped>\n",
       "    .dataframe tbody tr th:only-of-type {\n",
       "        vertical-align: middle;\n",
       "    }\n",
       "\n",
       "    .dataframe tbody tr th {\n",
       "        vertical-align: top;\n",
       "    }\n",
       "\n",
       "    .dataframe thead th {\n",
       "        text-align: right;\n",
       "    }\n",
       "</style>\n",
       "<table border=\"1\" class=\"dataframe\">\n",
       "  <thead>\n",
       "    <tr style=\"text-align: right;\">\n",
       "      <th></th>\n",
       "      <th>sepal_width</th>\n",
       "    </tr>\n",
       "  </thead>\n",
       "  <tbody>\n",
       "    <tr>\n",
       "      <th>104</th>\n",
       "      <td>3.0</td>\n",
       "    </tr>\n",
       "    <tr>\n",
       "      <th>42</th>\n",
       "      <td>3.2</td>\n",
       "    </tr>\n",
       "    <tr>\n",
       "      <th>91</th>\n",
       "      <td>3.0</td>\n",
       "    </tr>\n",
       "    <tr>\n",
       "      <th>14</th>\n",
       "      <td>4.0</td>\n",
       "    </tr>\n",
       "    <tr>\n",
       "      <th>16</th>\n",
       "      <td>3.9</td>\n",
       "    </tr>\n",
       "  </tbody>\n",
       "</table>\n",
       "</div>"
      ],
      "text/plain": [
       "     sepal_width\n",
       "104          3.0\n",
       "42           3.2\n",
       "91           3.0\n",
       "14           4.0\n",
       "16           3.9"
      ]
     },
     "execution_count": 17,
     "metadata": {},
     "output_type": "execute_result"
    }
   ],
   "source": [
    "x_train.head()"
   ]
  },
  {
   "cell_type": "code",
   "execution_count": 18,
   "id": "2db4ee16",
   "metadata": {
    "execution": {
     "iopub.execute_input": "2022-12-12T18:23:39.009773Z",
     "iopub.status.busy": "2022-12-12T18:23:39.008681Z",
     "iopub.status.idle": "2022-12-12T18:23:39.017809Z",
     "shell.execute_reply": "2022-12-12T18:23:39.017022Z"
    },
    "papermill": {
     "duration": 0.023116,
     "end_time": "2022-12-12T18:23:39.019890",
     "exception": false,
     "start_time": "2022-12-12T18:23:38.996774",
     "status": "completed"
    },
    "tags": []
   },
   "outputs": [
    {
     "data": {
      "text/html": [
       "<div>\n",
       "<style scoped>\n",
       "    .dataframe tbody tr th:only-of-type {\n",
       "        vertical-align: middle;\n",
       "    }\n",
       "\n",
       "    .dataframe tbody tr th {\n",
       "        vertical-align: top;\n",
       "    }\n",
       "\n",
       "    .dataframe thead th {\n",
       "        text-align: right;\n",
       "    }\n",
       "</style>\n",
       "<table border=\"1\" class=\"dataframe\">\n",
       "  <thead>\n",
       "    <tr style=\"text-align: right;\">\n",
       "      <th></th>\n",
       "      <th>sepal_length</th>\n",
       "    </tr>\n",
       "  </thead>\n",
       "  <tbody>\n",
       "    <tr>\n",
       "      <th>104</th>\n",
       "      <td>6.5</td>\n",
       "    </tr>\n",
       "    <tr>\n",
       "      <th>42</th>\n",
       "      <td>4.4</td>\n",
       "    </tr>\n",
       "    <tr>\n",
       "      <th>91</th>\n",
       "      <td>6.1</td>\n",
       "    </tr>\n",
       "    <tr>\n",
       "      <th>14</th>\n",
       "      <td>5.8</td>\n",
       "    </tr>\n",
       "    <tr>\n",
       "      <th>16</th>\n",
       "      <td>5.4</td>\n",
       "    </tr>\n",
       "  </tbody>\n",
       "</table>\n",
       "</div>"
      ],
      "text/plain": [
       "     sepal_length\n",
       "104           6.5\n",
       "42            4.4\n",
       "91            6.1\n",
       "14            5.8\n",
       "16            5.4"
      ]
     },
     "execution_count": 18,
     "metadata": {},
     "output_type": "execute_result"
    }
   ],
   "source": [
    "y_train.head()"
   ]
  },
  {
   "cell_type": "code",
   "execution_count": 19,
   "id": "c6c1f6d0",
   "metadata": {
    "execution": {
     "iopub.execute_input": "2022-12-12T18:23:39.043551Z",
     "iopub.status.busy": "2022-12-12T18:23:39.042930Z",
     "iopub.status.idle": "2022-12-12T18:23:39.051633Z",
     "shell.execute_reply": "2022-12-12T18:23:39.050656Z"
    },
    "papermill": {
     "duration": 0.023104,
     "end_time": "2022-12-12T18:23:39.053792",
     "exception": false,
     "start_time": "2022-12-12T18:23:39.030688",
     "status": "completed"
    },
    "tags": []
   },
   "outputs": [
    {
     "data": {
      "text/html": [
       "<div>\n",
       "<style scoped>\n",
       "    .dataframe tbody tr th:only-of-type {\n",
       "        vertical-align: middle;\n",
       "    }\n",
       "\n",
       "    .dataframe tbody tr th {\n",
       "        vertical-align: top;\n",
       "    }\n",
       "\n",
       "    .dataframe thead th {\n",
       "        text-align: right;\n",
       "    }\n",
       "</style>\n",
       "<table border=\"1\" class=\"dataframe\">\n",
       "  <thead>\n",
       "    <tr style=\"text-align: right;\">\n",
       "      <th></th>\n",
       "      <th>sepal_length</th>\n",
       "    </tr>\n",
       "  </thead>\n",
       "  <tbody>\n",
       "    <tr>\n",
       "      <th>31</th>\n",
       "      <td>5.4</td>\n",
       "    </tr>\n",
       "    <tr>\n",
       "      <th>86</th>\n",
       "      <td>6.7</td>\n",
       "    </tr>\n",
       "    <tr>\n",
       "      <th>138</th>\n",
       "      <td>6.0</td>\n",
       "    </tr>\n",
       "    <tr>\n",
       "      <th>127</th>\n",
       "      <td>6.1</td>\n",
       "    </tr>\n",
       "    <tr>\n",
       "      <th>65</th>\n",
       "      <td>6.7</td>\n",
       "    </tr>\n",
       "  </tbody>\n",
       "</table>\n",
       "</div>"
      ],
      "text/plain": [
       "     sepal_length\n",
       "31            5.4\n",
       "86            6.7\n",
       "138           6.0\n",
       "127           6.1\n",
       "65            6.7"
      ]
     },
     "execution_count": 19,
     "metadata": {},
     "output_type": "execute_result"
    }
   ],
   "source": [
    "y_test.head()"
   ]
  },
  {
   "cell_type": "code",
   "execution_count": 20,
   "id": "e6fba41a",
   "metadata": {
    "execution": {
     "iopub.execute_input": "2022-12-12T18:23:39.077163Z",
     "iopub.status.busy": "2022-12-12T18:23:39.076531Z",
     "iopub.status.idle": "2022-12-12T18:23:39.080115Z",
     "shell.execute_reply": "2022-12-12T18:23:39.079409Z"
    },
    "papermill": {
     "duration": 0.017754,
     "end_time": "2022-12-12T18:23:39.082282",
     "exception": false,
     "start_time": "2022-12-12T18:23:39.064528",
     "status": "completed"
    },
    "tags": []
   },
   "outputs": [],
   "source": [
    "# Now we need to import the linear Regression"
   ]
  },
  {
   "cell_type": "code",
   "execution_count": 21,
   "id": "9e85b061",
   "metadata": {
    "execution": {
     "iopub.execute_input": "2022-12-12T18:23:39.105599Z",
     "iopub.status.busy": "2022-12-12T18:23:39.104914Z",
     "iopub.status.idle": "2022-12-12T18:23:39.168849Z",
     "shell.execute_reply": "2022-12-12T18:23:39.167750Z"
    },
    "papermill": {
     "duration": 0.078676,
     "end_time": "2022-12-12T18:23:39.171644",
     "exception": false,
     "start_time": "2022-12-12T18:23:39.092968",
     "status": "completed"
    },
    "tags": []
   },
   "outputs": [],
   "source": [
    "from sklearn.linear_model import LinearRegression"
   ]
  },
  {
   "cell_type": "code",
   "execution_count": 22,
   "id": "4c5369ae",
   "metadata": {
    "execution": {
     "iopub.execute_input": "2022-12-12T18:23:39.195006Z",
     "iopub.status.busy": "2022-12-12T18:23:39.194571Z",
     "iopub.status.idle": "2022-12-12T18:23:39.199408Z",
     "shell.execute_reply": "2022-12-12T18:23:39.198443Z"
    },
    "papermill": {
     "duration": 0.018907,
     "end_time": "2022-12-12T18:23:39.201606",
     "exception": false,
     "start_time": "2022-12-12T18:23:39.182699",
     "status": "completed"
    },
    "tags": []
   },
   "outputs": [],
   "source": [
    "lr = LinearRegression()"
   ]
  },
  {
   "cell_type": "code",
   "execution_count": 23,
   "id": "553365fc",
   "metadata": {
    "execution": {
     "iopub.execute_input": "2022-12-12T18:23:39.225522Z",
     "iopub.status.busy": "2022-12-12T18:23:39.224766Z",
     "iopub.status.idle": "2022-12-12T18:23:39.249183Z",
     "shell.execute_reply": "2022-12-12T18:23:39.248002Z"
    },
    "papermill": {
     "duration": 0.0394,
     "end_time": "2022-12-12T18:23:39.252129",
     "exception": false,
     "start_time": "2022-12-12T18:23:39.212729",
     "status": "completed"
    },
    "tags": []
   },
   "outputs": [
    {
     "data": {
      "text/plain": [
       "LinearRegression()"
      ]
     },
     "execution_count": 23,
     "metadata": {},
     "output_type": "execute_result"
    }
   ],
   "source": [
    "lr.fit(x_train,y_train)"
   ]
  },
  {
   "cell_type": "code",
   "execution_count": 24,
   "id": "ba76e3c1",
   "metadata": {
    "execution": {
     "iopub.execute_input": "2022-12-12T18:23:39.279209Z",
     "iopub.status.busy": "2022-12-12T18:23:39.278436Z",
     "iopub.status.idle": "2022-12-12T18:23:39.285284Z",
     "shell.execute_reply": "2022-12-12T18:23:39.284119Z"
    },
    "papermill": {
     "duration": 0.024457,
     "end_time": "2022-12-12T18:23:39.287970",
     "exception": false,
     "start_time": "2022-12-12T18:23:39.263513",
     "status": "completed"
    },
    "tags": []
   },
   "outputs": [],
   "source": [
    "y_pred=lr.predict(x_test)"
   ]
  },
  {
   "cell_type": "code",
   "execution_count": 25,
   "id": "5c9810e2",
   "metadata": {
    "execution": {
     "iopub.execute_input": "2022-12-12T18:23:39.318574Z",
     "iopub.status.busy": "2022-12-12T18:23:39.317988Z",
     "iopub.status.idle": "2022-12-12T18:23:39.329685Z",
     "shell.execute_reply": "2022-12-12T18:23:39.328417Z"
    },
    "papermill": {
     "duration": 0.028662,
     "end_time": "2022-12-12T18:23:39.332795",
     "exception": false,
     "start_time": "2022-12-12T18:23:39.304133",
     "status": "completed"
    },
    "tags": []
   },
   "outputs": [
    {
     "data": {
      "text/html": [
       "<div>\n",
       "<style scoped>\n",
       "    .dataframe tbody tr th:only-of-type {\n",
       "        vertical-align: middle;\n",
       "    }\n",
       "\n",
       "    .dataframe tbody tr th {\n",
       "        vertical-align: top;\n",
       "    }\n",
       "\n",
       "    .dataframe thead th {\n",
       "        text-align: right;\n",
       "    }\n",
       "</style>\n",
       "<table border=\"1\" class=\"dataframe\">\n",
       "  <thead>\n",
       "    <tr style=\"text-align: right;\">\n",
       "      <th></th>\n",
       "      <th>sepal_length</th>\n",
       "    </tr>\n",
       "  </thead>\n",
       "  <tbody>\n",
       "    <tr>\n",
       "      <th>31</th>\n",
       "      <td>5.4</td>\n",
       "    </tr>\n",
       "    <tr>\n",
       "      <th>86</th>\n",
       "      <td>6.7</td>\n",
       "    </tr>\n",
       "    <tr>\n",
       "      <th>138</th>\n",
       "      <td>6.0</td>\n",
       "    </tr>\n",
       "    <tr>\n",
       "      <th>127</th>\n",
       "      <td>6.1</td>\n",
       "    </tr>\n",
       "    <tr>\n",
       "      <th>65</th>\n",
       "      <td>6.7</td>\n",
       "    </tr>\n",
       "  </tbody>\n",
       "</table>\n",
       "</div>"
      ],
      "text/plain": [
       "     sepal_length\n",
       "31            5.4\n",
       "86            6.7\n",
       "138           6.0\n",
       "127           6.1\n",
       "65            6.7"
      ]
     },
     "execution_count": 25,
     "metadata": {},
     "output_type": "execute_result"
    }
   ],
   "source": [
    "y_test.head()"
   ]
  },
  {
   "cell_type": "markdown",
   "id": "2576a676",
   "metadata": {
    "papermill": {
     "duration": 0.012174,
     "end_time": "2022-12-12T18:23:39.361014",
     "exception": false,
     "start_time": "2022-12-12T18:23:39.348840",
     "status": "completed"
    },
    "tags": []
   },
   "source": []
  },
  {
   "cell_type": "code",
   "execution_count": 26,
   "id": "67145a07",
   "metadata": {
    "execution": {
     "iopub.execute_input": "2022-12-12T18:23:39.385057Z",
     "iopub.status.busy": "2022-12-12T18:23:39.384263Z",
     "iopub.status.idle": "2022-12-12T18:23:39.391381Z",
     "shell.execute_reply": "2022-12-12T18:23:39.390587Z"
    },
    "papermill": {
     "duration": 0.021388,
     "end_time": "2022-12-12T18:23:39.393361",
     "exception": false,
     "start_time": "2022-12-12T18:23:39.371973",
     "status": "completed"
    },
    "tags": []
   },
   "outputs": [
    {
     "data": {
      "text/plain": [
       "array([[5.76130215],\n",
       "       [5.79608091],\n",
       "       [5.80767383],\n",
       "       [5.80767383],\n",
       "       [5.79608091]])"
      ]
     },
     "execution_count": 26,
     "metadata": {},
     "output_type": "execute_result"
    }
   ],
   "source": [
    "y_pred[0:5]"
   ]
  },
  {
   "cell_type": "code",
   "execution_count": 27,
   "id": "d3405275",
   "metadata": {
    "execution": {
     "iopub.execute_input": "2022-12-12T18:23:39.417493Z",
     "iopub.status.busy": "2022-12-12T18:23:39.416719Z",
     "iopub.status.idle": "2022-12-12T18:23:39.421080Z",
     "shell.execute_reply": "2022-12-12T18:23:39.420295Z"
    },
    "papermill": {
     "duration": 0.01872,
     "end_time": "2022-12-12T18:23:39.423101",
     "exception": false,
     "start_time": "2022-12-12T18:23:39.404381",
     "status": "completed"
    },
    "tags": []
   },
   "outputs": [],
   "source": [
    "from sklearn.metrics import mean_squared_error"
   ]
  },
  {
   "cell_type": "code",
   "execution_count": 28,
   "id": "78d9fb6d",
   "metadata": {
    "execution": {
     "iopub.execute_input": "2022-12-12T18:23:39.447223Z",
     "iopub.status.busy": "2022-12-12T18:23:39.446569Z",
     "iopub.status.idle": "2022-12-12T18:23:39.453887Z",
     "shell.execute_reply": "2022-12-12T18:23:39.453156Z"
    },
    "papermill": {
     "duration": 0.021732,
     "end_time": "2022-12-12T18:23:39.455891",
     "exception": false,
     "start_time": "2022-12-12T18:23:39.434159",
     "status": "completed"
    },
    "tags": []
   },
   "outputs": [
    {
     "data": {
      "text/plain": [
       "0.5396984936661904"
      ]
     },
     "execution_count": 28,
     "metadata": {},
     "output_type": "execute_result"
    }
   ],
   "source": [
    "mean_squared_error(y_test,y_pred)"
   ]
  },
  {
   "cell_type": "code",
   "execution_count": 29,
   "id": "d34231e5",
   "metadata": {
    "execution": {
     "iopub.execute_input": "2022-12-12T18:23:39.481203Z",
     "iopub.status.busy": "2022-12-12T18:23:39.480503Z",
     "iopub.status.idle": "2022-12-12T18:23:39.484447Z",
     "shell.execute_reply": "2022-12-12T18:23:39.483702Z"
    },
    "papermill": {
     "duration": 0.019355,
     "end_time": "2022-12-12T18:23:39.486460",
     "exception": false,
     "start_time": "2022-12-12T18:23:39.467105",
     "status": "completed"
    },
    "tags": []
   },
   "outputs": [],
   "source": [
    "# model-2"
   ]
  },
  {
   "cell_type": "code",
   "execution_count": 30,
   "id": "8b2e4afe",
   "metadata": {
    "execution": {
     "iopub.execute_input": "2022-12-12T18:23:39.511257Z",
     "iopub.status.busy": "2022-12-12T18:23:39.510118Z",
     "iopub.status.idle": "2022-12-12T18:23:39.516131Z",
     "shell.execute_reply": "2022-12-12T18:23:39.514997Z"
    },
    "papermill": {
     "duration": 0.020715,
     "end_time": "2022-12-12T18:23:39.518486",
     "exception": false,
     "start_time": "2022-12-12T18:23:39.497771",
     "status": "completed"
    },
    "tags": []
   },
   "outputs": [],
   "source": [
    "y = iris[['sepal_length']]"
   ]
  },
  {
   "cell_type": "code",
   "execution_count": 31,
   "id": "1970c4c6",
   "metadata": {
    "execution": {
     "iopub.execute_input": "2022-12-12T18:23:39.542854Z",
     "iopub.status.busy": "2022-12-12T18:23:39.542118Z",
     "iopub.status.idle": "2022-12-12T18:23:39.547986Z",
     "shell.execute_reply": "2022-12-12T18:23:39.547034Z"
    },
    "papermill": {
     "duration": 0.020277,
     "end_time": "2022-12-12T18:23:39.550012",
     "exception": false,
     "start_time": "2022-12-12T18:23:39.529735",
     "status": "completed"
    },
    "tags": []
   },
   "outputs": [],
   "source": [
    "x = iris[['sepal_width','petal_length','petal_width']]"
   ]
  },
  {
   "cell_type": "code",
   "execution_count": 32,
   "id": "ac6cc88f",
   "metadata": {
    "execution": {
     "iopub.execute_input": "2022-12-12T18:23:39.575265Z",
     "iopub.status.busy": "2022-12-12T18:23:39.574640Z",
     "iopub.status.idle": "2022-12-12T18:23:39.580895Z",
     "shell.execute_reply": "2022-12-12T18:23:39.579675Z"
    },
    "papermill": {
     "duration": 0.022053,
     "end_time": "2022-12-12T18:23:39.583436",
     "exception": false,
     "start_time": "2022-12-12T18:23:39.561383",
     "status": "completed"
    },
    "tags": []
   },
   "outputs": [],
   "source": [
    "x_train,x_test,y_train,y_test=train_test_split(x,y,test_size=0.3)"
   ]
  },
  {
   "cell_type": "code",
   "execution_count": 33,
   "id": "ee1fbd5f",
   "metadata": {
    "execution": {
     "iopub.execute_input": "2022-12-12T18:23:39.607665Z",
     "iopub.status.busy": "2022-12-12T18:23:39.607240Z",
     "iopub.status.idle": "2022-12-12T18:23:39.612346Z",
     "shell.execute_reply": "2022-12-12T18:23:39.611228Z"
    },
    "papermill": {
     "duration": 0.019657,
     "end_time": "2022-12-12T18:23:39.614499",
     "exception": false,
     "start_time": "2022-12-12T18:23:39.594842",
     "status": "completed"
    },
    "tags": []
   },
   "outputs": [],
   "source": [
    "lr2 = LinearRegression()"
   ]
  },
  {
   "cell_type": "code",
   "execution_count": 34,
   "id": "90c86bee",
   "metadata": {
    "execution": {
     "iopub.execute_input": "2022-12-12T18:23:39.638553Z",
     "iopub.status.busy": "2022-12-12T18:23:39.638093Z",
     "iopub.status.idle": "2022-12-12T18:23:39.653571Z",
     "shell.execute_reply": "2022-12-12T18:23:39.652685Z"
    },
    "papermill": {
     "duration": 0.029908,
     "end_time": "2022-12-12T18:23:39.655611",
     "exception": false,
     "start_time": "2022-12-12T18:23:39.625703",
     "status": "completed"
    },
    "tags": []
   },
   "outputs": [
    {
     "data": {
      "text/plain": [
       "LinearRegression()"
      ]
     },
     "execution_count": 34,
     "metadata": {},
     "output_type": "execute_result"
    }
   ],
   "source": [
    "lr2.fit(x_train,y_train)"
   ]
  },
  {
   "cell_type": "code",
   "execution_count": 35,
   "id": "9e56d5b0",
   "metadata": {
    "execution": {
     "iopub.execute_input": "2022-12-12T18:23:39.683226Z",
     "iopub.status.busy": "2022-12-12T18:23:39.682833Z",
     "iopub.status.idle": "2022-12-12T18:23:39.690338Z",
     "shell.execute_reply": "2022-12-12T18:23:39.689555Z"
    },
    "papermill": {
     "duration": 0.022676,
     "end_time": "2022-12-12T18:23:39.692620",
     "exception": false,
     "start_time": "2022-12-12T18:23:39.669944",
     "status": "completed"
    },
    "tags": []
   },
   "outputs": [],
   "source": [
    "y_pred=lr2.predict(x_test)"
   ]
  },
  {
   "cell_type": "code",
   "execution_count": 36,
   "id": "60739113",
   "metadata": {
    "execution": {
     "iopub.execute_input": "2022-12-12T18:23:39.724747Z",
     "iopub.status.busy": "2022-12-12T18:23:39.723558Z",
     "iopub.status.idle": "2022-12-12T18:23:39.732396Z",
     "shell.execute_reply": "2022-12-12T18:23:39.731547Z"
    },
    "papermill": {
     "duration": 0.02394,
     "end_time": "2022-12-12T18:23:39.734578",
     "exception": false,
     "start_time": "2022-12-12T18:23:39.710638",
     "status": "completed"
    },
    "tags": []
   },
   "outputs": [
    {
     "data": {
      "text/plain": [
       "0.09852036741074485"
      ]
     },
     "execution_count": 36,
     "metadata": {},
     "output_type": "execute_result"
    }
   ],
   "source": [
    "mean_squared_error(y_test,y_pred)"
   ]
  }
 ],
 "metadata": {
  "kernelspec": {
   "display_name": "Python 3",
   "language": "python",
   "name": "python3"
  },
  "language_info": {
   "codemirror_mode": {
    "name": "ipython",
    "version": 3
   },
   "file_extension": ".py",
   "mimetype": "text/x-python",
   "name": "python",
   "nbconvert_exporter": "python",
   "pygments_lexer": "ipython3",
   "version": "3.7.12"
  },
  "papermill": {
   "default_parameters": {},
   "duration": 11.543686,
   "end_time": "2022-12-12T18:23:40.466879",
   "environment_variables": {},
   "exception": null,
   "input_path": "__notebook__.ipynb",
   "output_path": "__notebook__.ipynb",
   "parameters": {},
   "start_time": "2022-12-12T18:23:28.923193",
   "version": "2.3.4"
  }
 },
 "nbformat": 4,
 "nbformat_minor": 5
}
